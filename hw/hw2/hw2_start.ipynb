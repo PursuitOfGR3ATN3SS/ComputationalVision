{
 "cells": [
  {
   "cell_type": "markdown",
   "id": "7045a597-afc8-45a0-923e-e98db72440f9",
   "metadata": {},
   "source": [
    "## Homework 2 Solution Template\n",
    "### CSCI 4270 / 6270\n",
    "### Due: February 5, 2024"
   ]
  },
  {
   "cell_type": "code",
   "execution_count": 1,
   "id": "2c15f298-006b-41b8-94c6-5853b1cb457e",
   "metadata": {},
   "outputs": [],
   "source": [
    "import cv2\n",
    "import numpy as np\n",
    "from matplotlib import pyplot as plt\n",
    "import math"
   ]
  },
  {
   "cell_type": "markdown",
   "id": "c34497b4-1bb0-4ba4-8376-a49f648222d7",
   "metadata": {},
   "source": [
    "## Problem 1"
   ]
  },
  {
   "cell_type": "code",
   "execution_count": 2,
   "id": "a492bb54-67a2-47f8-ad27-369e3a8ed30e",
   "metadata": {},
   "outputs": [],
   "source": [
    "def print_matrix(name, A):\n",
    "    print(f'Matrix {name}:')\n",
    "    for i in range(A.shape[0]):\n",
    "        row = A[i, :]\n",
    "        print(f'{row[0]:.1f}', end='')\n",
    "        for j in range(1, row.shape[0]):\n",
    "            print(f', {row[j]:.1f}', end='')\n",
    "        print()"
   ]
  },
  {
   "cell_type": "code",
   "execution_count": 4,
   "id": "0beaee22-f917-4640-8e31-12647d0f9c43",
   "metadata": {},
   "outputs": [
    {
     "name": "stdout",
     "output_type": "stream",
     "text": [
      "Matrix R:\n",
      "1.0, 0.0, 0.0\n",
      "0.0, 1.0, 0.0\n",
      "0.0, 0.0, 1.0\n",
      "Matrix K:\n",
      "1500.0, 0.0, 2995.0\n",
      "0.0, 1500.0, 2001.0\n",
      "0.0, 0.0, 1.0\n",
      "Matrix M:\n",
      "1500.0, 0.0, 2995.0, -29950.0\n",
      "0.0, 1500.0, 2001.0, -20010.0\n",
      "0.0, 0.0, 1.0, -10.0\n",
      "Projections:\n",
      "0: point 10.0 5.0 100.0 ==> 2084.3, 3161.7, inside\n",
      "1: point 0.0 0.0 0.5 ==> 2001.0, 2995.0, inside\n",
      "2: point -30.0 10.0 -20.0 ==> 1501.0, 4495.0, inside\n",
      "3: point 20.0 15.0 20.0 ==> 4251.0, 5995.0, outside\n",
      "visible: 0 3\n",
      "hidden: 1 2\n"
     ]
    }
   ],
   "source": [
    "\"\"\"\n",
    "Problem 1, Test 1. This is a very simple test that could be easily checked by hand.\n",
    "\"\"\"\n",
    "params = [\n",
    "    [0.0, 0.0, 0.0],\n",
    "    [0.0, 0.0, 10.0],\n",
    "    [15, 10, 2001, 2995]\n",
    "]\n",
    "points = [\n",
    "    [10, 5, 1000, 0, 0.5],\n",
    "    [-30, 10, -20],\n",
    "    [20, 15, 20]\n",
    "]\n",
    "\n",
    "p1_camera(params, points)\n"
   ]
  },
  {
   "cell_type": "code",
   "execution_count": 5,
   "id": "6efb1e6b-821c-484a-9941-7cef8e51ad8c",
   "metadata": {},
   "outputs": [
    {
     "name": "stdout",
     "output_type": "stream",
     "text": [
      "Matrix R:\n",
      "0.7, -0.1, -0.7\n",
      "-0.0, 1.0, -0.2\n",
      "0.7, 0.1, 0.7\n",
      "Matrix K:\n",
      "1000.0, 0.0, 3005.0\n",
      "0.0, 1000.0, 1998.0\n",
      "0.0, 0.0, 1.0\n",
      "Matrix M:\n",
      "-1428.5, -562.5, 2770.0, -5112.7\n",
      "-1535.6, 617.4, 1500.9, -27388.2\n",
      "-0.7, -0.2, 0.7, 1.5\n",
      "Projections:\n",
      "0: point 100.0 15.0 90.0 ==> 3487.2, -8851.4, outside\n",
      "1: point -100.0 800.0 1500.0 ==> 3021.6, 4043.8, inside\n",
      "2: point 10.0 -500.0 -500.0 ==> 4311.3, 4394.6, outside\n",
      "3: point -30.0 10.0 20.0 ==> 1589.0, 2534.4, inside\n",
      "visible: 1 3\n",
      "hidden: 0 2\n"
     ]
    }
   ],
   "source": [
    "'''\n",
    "Problem 1, Test 2\n",
    "'''\n",
    "params = [\n",
    "    [15.0, -45.0, 10.0],\n",
    "    [4.0, 30.0, 10.0],\n",
    "    [12, 12, 1998, 3005]\n",
    "]\n",
    "points = [\n",
    "    [100, 15, 90],\n",
    "    [-100, 800, 1500],\n",
    "    [10, -500, -500],\n",
    "    [-30, 10, 20]\n",
    "]\n",
    "p1_camera(params, points)\n"
   ]
  },
  {
   "cell_type": "code",
   "execution_count": null,
   "id": "3f364f6c-c17f-49f2-b582-e333fb5dc976",
   "metadata": {},
   "outputs": [],
   "source": [
    "'''\n",
    "Problem 1, Test 3\n",
    "'''\n",
    "params = [\n",
    "    [-16.0, 10.0, 50.0],\n",
    "    [25, -12, 50],\n",
    "    [9, 9, 1000, 1400]\n",
    "]\n",
    "points = [\n",
    "    [100, 15, 90],\n",
    "    [-100, 800, 1500],\n",
    "    [10, -500, -500],\n",
    "    [-30, 10, 20]\n",
    "]\n",
    "p1_camera(params, points)"
   ]
  },
  {
   "cell_type": "markdown",
   "id": "3debdec7-4b67-4786-a556-c79543c5f3e1",
   "metadata": {},
   "source": [
    "## Problem 2"
   ]
  },
  {
   "cell_type": "code",
   "execution_count": 7,
   "id": "aa5c4cc5-5beb-44cc-b878-578ea37c3f17",
   "metadata": {},
   "outputs": [],
   "source": [
    "def load_points(fn):\n",
    "    '''\n",
    "    Input: a path to a file containing x, y points, one point per line.\n",
    "    Returns: two-d np array where each row contains an x, y point\n",
    "    '''\n",
    "    f = open(fn, 'r')\n",
    "    pts = []\n",
    "    for line in f:\n",
    "        line = line.strip().split()\n",
    "        x, y = float(line[0]), float(line[1])\n",
    "        pts.append([x, y])\n",
    "    pts = np.array(pts)\n",
    "    f.close()\n",
    "    return pts"
   ]
  },
  {
   "cell_type": "code",
   "execution_count": 8,
   "id": "c1018c98-dc0b-4841-9992-2435540b1d9f",
   "metadata": {},
   "outputs": [],
   "source": [
    "def p2_ransac(fn, samples, tau, seed):\n"
   ]
  },
  {
   "cell_type": "code",
   "execution_count": 9,
   "id": "d1822843-b31c-4ef2-8d33-9475f0b052fa",
   "metadata": {},
   "outputs": [
    {
     "name": "stdout",
     "output_type": "stream",
     "text": [
      "Sample 0:\n",
      "indices (0,28)\n",
      "line (-0.983,0.184,-26.286)\n",
      "inliers 13\n",
      "\n",
      "Sample 3:\n",
      "indices (27,25)\n",
      "line (0.426,0.905,-4.913)\n",
      "inliers 19\n",
      "\n",
      "Sample 10:\n",
      "indices (23,4)\n",
      "line (0.545,0.838,-0.944)\n",
      "inliers 21\n",
      "\n",
      "avg inlier dist 0.739\n",
      "avg outlier dist 8.920\n"
     ]
    }
   ],
   "source": [
    "'''\n",
    "Problem 2, Test 1\n",
    "'''\n",
    "fn = 'data/p2_pts1_in.txt'\n",
    "samples = 25\n",
    "tau = 2.5\n",
    "seed = 999\n",
    "p2_ransac(fn, samples, tau, seed)\n"
   ]
  },
  {
   "cell_type": "code",
   "execution_count": null,
   "id": "5ad16397-88bd-40e1-9181-10c29317fdfe",
   "metadata": {},
   "outputs": [],
   "source": [
    "'''\n",
    "Problem 2, Test 2\n",
    "'''\n",
    "fn = 'data/p2_pts2_in.txt'\n",
    "samples = 35\n",
    "tau = 3.0\n",
    "seed = 1232\n",
    "p2_ransac(fn, samples, tau, seed)\n"
   ]
  },
  {
   "cell_type": "markdown",
   "id": "b26e27f5-e957-4f1f-93e5-02721b824a69",
   "metadata": {},
   "source": [
    "## Problem 3 (4270 Only)\n"
   ]
  },
  {
   "cell_type": "code",
   "execution_count": 3,
   "id": "93c1537b-1ade-40ac-923d-08f34f9d0af3",
   "metadata": {},
   "outputs": [],
   "source": [
    "'''\n",
    "Utility for Problem 3\n",
    "'''\n",
    "import os\n",
    "from os import sys\n",
    "\n",
    "def get_images(img_dir: str) -> tuple[list[str], list[np.ndarray]]:\n",
    "    start_cwd:str = os.getcwd()\n",
    "    os.chdir(img_dir)\n",
    "    img_name_list: list[str] = os.listdir('./')\n",
    "    img_name_list = [name for name in img_name_list if 'jpg' in name.lower()]\n",
    "    img_name_list.sort()\n",
    "\n",
    "    img_list: list[np.ndarray] = []\n",
    "    im: np.ndarray\n",
    "\n",
    "    for i_name in img_name_list:\n",
    "        im = cv2.imread(i_name, cv2.IMREAD_GRAYSCALE)\n",
    "        if im is None:\n",
    "            print('Could not open', i_name)\n",
    "            sys.exit(0)\n",
    "        img_list.append(im)\n",
    "\n",
    "    os.chdir(start_cwd)\n",
    "    return img_name_list, img_list"
   ]
  },
  {
   "cell_type": "code",
   "execution_count": 24,
   "id": "344bf196",
   "metadata": {},
   "outputs": [],
   "source": [
    "def calculate_image_energy(image: np.ndarray) -> float:\n",
    "  \"\"\"\n",
    "  Using Gaussian Smooting, we find the energy value of the image.\n",
    "\n",
    "  Args:\n",
    "    image (np.ndarray): Image to be evaluated\n",
    "\n",
    "  Returns:\n",
    "    float -> image's energy\n",
    "  \"\"\"\n",
    "\n",
    "  # Compute derivatives and apply aspects of Gaussian Smooting to images w.r.t x and y axes\n",
    "  im_xdelta: np.ndarray = cv2.Sobel(image, cv2.CV_32F, 1, 0) # Gradients or differences of all pxels across the x-axis\n",
    "  im_ydelta: np.ndarray =  cv2.Sobel(image, cv2.CV_32F, 0, 1) # Gradients or differences of all pxels across the y-axis\n",
    "  M, N = image.shape\n",
    "\n",
    "  gradient_magnitude_squared: np.ndarray = ((im_xdelta) ** 2 + (im_ydelta) ** 2)\n",
    "  total_gradient_magnitude_squared: np.ndarray = np.sum(gradient_magnitude_squared) # Sums all gradients within the image\n",
    "  normalized_total: np.ndarray = (1 / (M * N)) * total_gradient_magnitude_squared\n",
    "\n",
    "  return normalized_total\n",
    "\n",
    "def find_best_focused_image(images: list[np.ndarray]) -> tuple[np.ndarray, int, list[float]]:\n",
    "  \"\"\"\n",
    "  Using Gaussian Smooting, we find the energy value of each image in {images} and declare the best focused image as the image with the highest energy value.\n",
    "\n",
    "  Args:\n",
    "    images (list[np.ndarray]): List of images to be evaluated\n",
    "\n",
    "  Returns:\n",
    "    tuple[\n",
    "      np.ndarray -> image with the best focus,\n",
    "      int -> index of image with the best focus w.r.t the list it is in\n",
    "  \"\"\"\n",
    "  image_energies: list[np.ndarray] = [] # Entry 1 corresponds to Entry 1 in images\n",
    "  E_image: float\n",
    "  for image in images:\n",
    "    E_image = calculate_image_energy(image=image)\n",
    "    image_energies.append(E_image)\n",
    "\n",
    "  best_focused_image_index: int = np.argmax(image_energies)\n",
    "  best_focused_image: np.ndarray = image[best_focused_image_index]\n",
    "  return best_focused_image,best_focused_image_index,image_energies"
   ]
  },
  {
   "cell_type": "code",
   "execution_count": 25,
   "id": "ce389f29",
   "metadata": {},
   "outputs": [
    {
     "name": "stdout",
     "output_type": "stream",
     "text": [
      "DSC_1696.JPG: 283.9\n",
      "DSC_1697.JPG: 312.7\n",
      "DSC_1698.JPG: 602.4\n",
      "DSC_1699.JPG: 2137.2\n",
      "DSC_1700.JPG: 10224.8\n",
      "DSC_1701.JPG: 18987.1\n",
      "Image DSC_1701.JPG is best focused.\n"
     ]
    }
   ],
   "source": [
    "evergreen_dir = 'data/evergreen'\n",
    "names_of_images, images = get_images(img_dir=evergreen_dir)\n",
    "best_focused_image, best_focused_image_index, image_energies = find_best_focused_image(images=images)\n",
    "\n",
    "E_image: np.ndarray\n",
    "for i, image_name in enumerate(names_of_images):\n",
    "  E_image = image_energies[i]\n",
    "  print(f\"{image_name}: {E_image:.1f}\")\n",
    "print(f\"Image {names_of_images[best_focused_image_index]} is best focused.\")"
   ]
  },
  {
   "cell_type": "code",
   "execution_count": 26,
   "id": "3633588a-2c47-4191-8627-49bbdc28e7a7",
   "metadata": {},
   "outputs": [],
   "source": [
    "def p3_best_focus(image_dir: str) -> tuple[np.ndarray, int]:\n",
    "  \"\"\"\n",
    "  Finds and outputs best foucused image\n",
    "\n",
    "  Args:\n",
    "    image_dir (str): Directory where images can be found\n",
    "\n",
    "  Returns:\n",
    "      tuple[\n",
    "        np.ndarray -> image with the best focus,\n",
    "        int -> index of image with the best focus -- corresponding to the index - 1 of the the sorted images in {image_dir}\n",
    "  \"\"\"\n",
    "  names_of_images, images = get_images(img_dir=image_dir)\n",
    "  best_focused_image, best_focused_image_index, image_energies = find_best_focused_image(images=images)\n",
    "\n",
    "  E_image: np.ndarray\n",
    "  for i, image_name in enumerate(names_of_images):\n",
    "    E_image = image_energies[i]\n",
    "    print(f\"{image_name}: {E_image:.1f}\")\n",
    "  print(f\"Image {names_of_images[best_focused_image_index]} is best focused.\")\n",
    "  return best_focused_image, best_focused_image_index\n"
   ]
  },
  {
   "cell_type": "code",
   "execution_count": 27,
   "id": "20f880fc",
   "metadata": {},
   "outputs": [
    {
     "name": "stdout",
     "output_type": "stream",
     "text": [
      "DSC_1696.JPG: 283.9\n",
      "DSC_1697.JPG: 312.7\n",
      "DSC_1698.JPG: 602.4\n",
      "DSC_1699.JPG: 2137.2\n",
      "DSC_1700.JPG: 10224.8\n",
      "DSC_1701.JPG: 18987.1\n",
      "Image DSC_1701.JPG is best focused.\n"
     ]
    },
    {
     "data": {
      "text/plain": [
       "(array([146, 148, 148, 144, 145, 151, 151, 154, 160, 169, 156, 155, 160,\n",
       "        162, 167, 164, 164, 160, 165, 163, 165, 168, 163, 153, 148, 141,\n",
       "        140, 139, 141, 138, 136, 135, 134, 126, 127, 145, 140, 151, 202,\n",
       "        229, 231, 225, 226, 231, 230, 222, 226, 226, 239, 249, 237, 231,\n",
       "        229, 234, 239, 235, 158, 159, 162, 166, 170, 173, 176, 177, 179,\n",
       "        180, 181, 181, 181, 180, 180, 179, 181, 181, 181, 181, 180, 181,\n",
       "        179, 173, 171, 171, 169, 168, 168, 174, 232, 237, 235, 239, 244,\n",
       "        239, 188, 153, 163, 163, 168, 171, 175, 178, 179, 180, 180, 179,\n",
       "        179, 179, 179, 178, 177, 177, 176, 175, 174, 174, 173, 176, 172,\n",
       "        168, 167, 163, 165, 164, 164, 191, 232, 232, 197, 219, 221, 222,\n",
       "        226, 228, 231, 232, 229, 232, 234, 235, 243, 246, 247, 248, 247,\n",
       "        248, 250, 249, 241, 239, 200, 142, 148, 138, 141, 151, 140, 138,\n",
       "        133, 139, 154, 155, 158, 153, 148, 141, 142, 124, 114, 109,  76,\n",
       "        114, 129, 120, 122, 120, 127, 103, 146, 134, 151, 114, 110,  85,\n",
       "        135, 147, 133, 140, 131, 129, 110, 107, 132, 125, 109, 124, 153,\n",
       "        152, 144, 146, 127, 115, 108, 106, 105, 102, 109, 142, 138, 136,\n",
       "        138, 134, 132, 121, 112,  96,  81,  90,  78, 106, 107, 199, 220,\n",
       "        191, 136, 128, 113, 107, 118, 178, 163, 119, 111, 134, 159, 185,\n",
       "        187, 135, 110,  95,  97,  78,  70,  68,  72,  78, 102, 127, 113,\n",
       "         97,  91,  81,  74,  61,  70,  86,  97,  89,  88,  62,  56,  61,\n",
       "         82,  97,  83, 107,  83,  94,  69, 100, 105, 117, 134, 120,  99,\n",
       "         87,  72,  65, 111, 120, 122, 118,  80,  72,  55,  45,  44,  69,\n",
       "        106, 114,  75,  52,  36,  47,  51,  57,  38,  48,  60, 104,  91,\n",
       "        107, 113, 110, 131, 109, 125, 117,  98, 123, 157, 129, 148, 161,\n",
       "        124, 125, 133, 132, 126, 132, 137, 132, 147, 132, 130, 125, 106,\n",
       "         69,  82,  83,  90, 105, 103,  93, 103, 106, 110, 118, 121, 130,\n",
       "        143, 145, 117,  82,  66,  74, 110, 133, 117, 131, 141, 142, 142,\n",
       "        149, 144, 128, 126, 126, 113, 132, 134, 125, 123, 132, 125, 149,\n",
       "        153, 117, 114, 113, 127, 141, 147, 147, 153, 154, 147, 157, 202,\n",
       "        227, 235, 220, 241, 242, 247, 199, 140, 146, 151, 153, 158, 162,\n",
       "        165, 167, 166, 167, 168, 169, 172, 175, 174, 171, 174, 176, 175,\n",
       "        178, 170, 179, 179, 174, 174, 172, 170, 167, 166, 168, 167, 162,\n",
       "        165, 164, 163, 161, 161, 159, 215, 230, 233, 224, 213, 223, 198,\n",
       "        206, 211, 200, 206, 210, 207, 212, 210, 210, 204, 208, 206, 201,\n",
       "        164, 166, 162, 161, 163, 170, 165, 164, 162,  98,  69,  67,  67,\n",
       "         76,  77, 106, 110,  80,  79,  83,  76,  73,  85,  88,  93,  86,\n",
       "         84,  80,  85,  85,  91,  89, 150, 114,  87,  92,  82,  72,  87,\n",
       "         79,  81,  90,  90,  91,  89,  96,  90,  95,  97, 117, 121, 102,\n",
       "        101, 101, 104, 104, 102, 105,  99,  98, 102, 104, 106, 110, 111,\n",
       "        135, 144, 149, 146, 148, 149, 154, 145, 138, 126, 123, 149, 122,\n",
       "        101,  98,  99,  97, 101,  96, 102,  95,  95,  93,  86,  77,  86,\n",
       "         85,  91,  93, 136, 109,  99, 101, 104, 103,  97,  99,  99,  99,\n",
       "         98,  95,  86,  80,  90,  93,  90,  93, 102, 138, 103,  88,  88,\n",
       "         89,  80,  80,  83,  83,  84,  91,  91,  95,  96,  98,  97,  97,\n",
       "        102, 112, 125, 116, 119, 118, 126, 130, 123, 111, 113, 137, 121,\n",
       "        105,  91,  82,  82,  73,  67,  80,  82,  76,  74,  77,  72,  62,\n",
       "         59,  67], dtype=uint8),\n",
       " np.int64(5))"
      ]
     },
     "execution_count": 27,
     "metadata": {},
     "output_type": "execute_result"
    }
   ],
   "source": [
    "evergreen_dir = 'data/evergreen'\n",
    "p3_best_focus(evergreen_dir)"
   ]
  },
  {
   "cell_type": "code",
   "execution_count": 13,
   "id": "94726212-6900-4447-beac-7ac34a660b79",
   "metadata": {},
   "outputs": [
    {
     "name": "stdout",
     "output_type": "stream",
     "text": [
      "DSC_1696.JPG: 283.9\n",
      "DSC_1697.JPG: 312.7\n",
      "DSC_1698.JPG: 602.4\n",
      "DSC_1699.JPG: 2137.2\n",
      "DSC_1700.JPG: 10224.8\n",
      "DSC_1701.JPG: 18987.1\n",
      "Image DSC_1701.JPG is best focused.\n"
     ]
    }
   ],
   "source": [
    "image_dir = 'data/evergreen'\n",
    "p3_best_focus(image_dir)"
   ]
  },
  {
   "cell_type": "code",
   "execution_count": null,
   "id": "284f8631",
   "metadata": {},
   "outputs": [],
   "source": [
    "image_dir = 'data/branches'\n",
    "p3_best_focus(image_dir)"
   ]
  }
 ],
 "metadata": {
  "kernelspec": {
   "display_name": "cv",
   "language": "python",
   "name": "python3"
  },
  "language_info": {
   "codemirror_mode": {
    "name": "ipython",
    "version": 3
   },
   "file_extension": ".py",
   "mimetype": "text/x-python",
   "name": "python",
   "nbconvert_exporter": "python",
   "pygments_lexer": "ipython3",
   "version": "3.10.16"
  }
 },
 "nbformat": 4,
 "nbformat_minor": 5
}
