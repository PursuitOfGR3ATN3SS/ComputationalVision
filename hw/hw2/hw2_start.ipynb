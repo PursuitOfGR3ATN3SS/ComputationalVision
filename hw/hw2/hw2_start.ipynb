{
 "cells": [
  {
   "cell_type": "markdown",
   "id": "7045a597-afc8-45a0-923e-e98db72440f9",
   "metadata": {},
   "source": [
    "## Homework 2 Solution Template\n",
    "### CSCI 4270 / 6270\n",
    "### Due: February 5, 2024"
   ]
  },
  {
   "cell_type": "code",
   "execution_count": 1,
   "id": "2c15f298-006b-41b8-94c6-5853b1cb457e",
   "metadata": {},
   "outputs": [],
   "source": [
    "import cv2\n",
    "import numpy as np\n",
    "from matplotlib import pyplot as plt\n",
    "import math"
   ]
  },
  {
   "cell_type": "markdown",
   "id": "c34497b4-1bb0-4ba4-8376-a49f648222d7",
   "metadata": {},
   "source": [
    "## Problem 1"
   ]
  },
  {
   "cell_type": "code",
   "execution_count": 2,
   "id": "a492bb54-67a2-47f8-ad27-369e3a8ed30e",
   "metadata": {},
   "outputs": [],
   "source": [
    "def print_matrix(name, A):\n",
    "    print(f'Matrix {name}:')\n",
    "    for i in range(A.shape[0]):\n",
    "        row = A[i, :]\n",
    "        print(f'{row[0]:.1f}', end='')\n",
    "        for j in range(1, row.shape[0]):\n",
    "            print(f', {row[j]:.1f}', end='')\n",
    "        print()"
   ]
  },
  {
   "cell_type": "code",
   "execution_count": 4,
   "id": "0beaee22-f917-4640-8e31-12647d0f9c43",
   "metadata": {},
   "outputs": [
    {
     "name": "stdout",
     "output_type": "stream",
     "text": [
      "Matrix R:\n",
      "1.0, 0.0, 0.0\n",
      "0.0, 1.0, 0.0\n",
      "0.0, 0.0, 1.0\n",
      "Matrix K:\n",
      "1500.0, 0.0, 2995.0\n",
      "0.0, 1500.0, 2001.0\n",
      "0.0, 0.0, 1.0\n",
      "Matrix M:\n",
      "1500.0, 0.0, 2995.0, -29950.0\n",
      "0.0, 1500.0, 2001.0, -20010.0\n",
      "0.0, 0.0, 1.0, -10.0\n",
      "Projections:\n",
      "0: point 10.0 5.0 100.0 ==> 2084.3, 3161.7, inside\n",
      "1: point 0.0 0.0 0.5 ==> 2001.0, 2995.0, inside\n",
      "2: point -30.0 10.0 -20.0 ==> 1501.0, 4495.0, inside\n",
      "3: point 20.0 15.0 20.0 ==> 4251.0, 5995.0, outside\n",
      "visible: 0 3\n",
      "hidden: 1 2\n"
     ]
    }
   ],
   "source": [
    "\"\"\"\n",
    "Problem 1, Test 1. This is a very simple test that could be easily checked by hand.\n",
    "\"\"\"\n",
    "params = [\n",
    "    [0.0, 0.0, 0.0],\n",
    "    [0.0, 0.0, 10.0],\n",
    "    [15, 10, 2001, 2995]\n",
    "]\n",
    "points = [\n",
    "    [10, 5, 1000, 0, 0.5],\n",
    "    [-30, 10, -20],\n",
    "    [20, 15, 20]\n",
    "]\n",
    "\n",
    "p1_camera(params, points)\n"
   ]
  },
  {
   "cell_type": "code",
   "execution_count": 5,
   "id": "6efb1e6b-821c-484a-9941-7cef8e51ad8c",
   "metadata": {},
   "outputs": [
    {
     "name": "stdout",
     "output_type": "stream",
     "text": [
      "Matrix R:\n",
      "0.7, -0.1, -0.7\n",
      "-0.0, 1.0, -0.2\n",
      "0.7, 0.1, 0.7\n",
      "Matrix K:\n",
      "1000.0, 0.0, 3005.0\n",
      "0.0, 1000.0, 1998.0\n",
      "0.0, 0.0, 1.0\n",
      "Matrix M:\n",
      "-1428.5, -562.5, 2770.0, -5112.7\n",
      "-1535.6, 617.4, 1500.9, -27388.2\n",
      "-0.7, -0.2, 0.7, 1.5\n",
      "Projections:\n",
      "0: point 100.0 15.0 90.0 ==> 3487.2, -8851.4, outside\n",
      "1: point -100.0 800.0 1500.0 ==> 3021.6, 4043.8, inside\n",
      "2: point 10.0 -500.0 -500.0 ==> 4311.3, 4394.6, outside\n",
      "3: point -30.0 10.0 20.0 ==> 1589.0, 2534.4, inside\n",
      "visible: 1 3\n",
      "hidden: 0 2\n"
     ]
    }
   ],
   "source": [
    "'''\n",
    "Problem 1, Test 2\n",
    "'''\n",
    "params = [\n",
    "    [15.0, -45.0, 10.0],\n",
    "    [4.0, 30.0, 10.0],\n",
    "    [12, 12, 1998, 3005]\n",
    "]\n",
    "points = [\n",
    "    [100, 15, 90],\n",
    "    [-100, 800, 1500],\n",
    "    [10, -500, -500],\n",
    "    [-30, 10, 20]\n",
    "]\n",
    "p1_camera(params, points)\n"
   ]
  },
  {
   "cell_type": "code",
   "execution_count": null,
   "id": "3f364f6c-c17f-49f2-b582-e333fb5dc976",
   "metadata": {},
   "outputs": [],
   "source": [
    "'''\n",
    "Problem 1, Test 3\n",
    "'''\n",
    "params = [\n",
    "    [-16.0, 10.0, 50.0],\n",
    "    [25, -12, 50],\n",
    "    [9, 9, 1000, 1400]\n",
    "]\n",
    "points = [\n",
    "    [100, 15, 90],\n",
    "    [-100, 800, 1500],\n",
    "    [10, -500, -500],\n",
    "    [-30, 10, 20]\n",
    "]\n",
    "p1_camera(params, points)"
   ]
  },
  {
   "cell_type": "markdown",
   "id": "3debdec7-4b67-4786-a556-c79543c5f3e1",
   "metadata": {},
   "source": [
    "## Problem 2"
   ]
  },
  {
   "cell_type": "code",
   "execution_count": 7,
   "id": "aa5c4cc5-5beb-44cc-b878-578ea37c3f17",
   "metadata": {},
   "outputs": [],
   "source": [
    "def load_points(fn):\n",
    "    '''\n",
    "    Input: a path to a file containing x, y points, one point per line.\n",
    "    Returns: two-d np array where each row contains an x, y point\n",
    "    '''\n",
    "    f = open(fn, 'r')\n",
    "    pts = []\n",
    "    for line in f:\n",
    "        line = line.strip().split()\n",
    "        x, y = float(line[0]), float(line[1])\n",
    "        pts.append([x, y])\n",
    "    pts = np.array(pts)\n",
    "    f.close()\n",
    "    return pts"
   ]
  },
  {
   "cell_type": "code",
   "execution_count": 8,
   "id": "c1018c98-dc0b-4841-9992-2435540b1d9f",
   "metadata": {},
   "outputs": [],
   "source": [
    "def p2_ransac(fn, samples, tau, seed):\n"
   ]
  },
  {
   "cell_type": "code",
   "execution_count": 9,
   "id": "d1822843-b31c-4ef2-8d33-9475f0b052fa",
   "metadata": {},
   "outputs": [
    {
     "name": "stdout",
     "output_type": "stream",
     "text": [
      "Sample 0:\n",
      "indices (0,28)\n",
      "line (-0.983,0.184,-26.286)\n",
      "inliers 13\n",
      "\n",
      "Sample 3:\n",
      "indices (27,25)\n",
      "line (0.426,0.905,-4.913)\n",
      "inliers 19\n",
      "\n",
      "Sample 10:\n",
      "indices (23,4)\n",
      "line (0.545,0.838,-0.944)\n",
      "inliers 21\n",
      "\n",
      "avg inlier dist 0.739\n",
      "avg outlier dist 8.920\n"
     ]
    }
   ],
   "source": [
    "'''\n",
    "Problem 2, Test 1\n",
    "'''\n",
    "fn = 'data/p2_pts1_in.txt'\n",
    "samples = 25\n",
    "tau = 2.5\n",
    "seed = 999\n",
    "p2_ransac(fn, samples, tau, seed)\n"
   ]
  },
  {
   "cell_type": "code",
   "execution_count": null,
   "id": "5ad16397-88bd-40e1-9181-10c29317fdfe",
   "metadata": {},
   "outputs": [],
   "source": [
    "'''\n",
    "Problem 2, Test 2\n",
    "'''\n",
    "fn = 'data/p2_pts2_in.txt'\n",
    "samples = 35\n",
    "tau = 3.0\n",
    "seed = 1232\n",
    "p2_ransac(fn, samples, tau, seed)\n"
   ]
  },
  {
   "cell_type": "markdown",
   "id": "b26e27f5-e957-4f1f-93e5-02721b824a69",
   "metadata": {},
   "source": [
    "## Problem 3 (4270 Only)\n",
    "\n",
    "Students in 6270 should delete Problem 3 cells from their notebooks prior to submission."
   ]
  },
  {
   "cell_type": "code",
   "execution_count": 11,
   "id": "93c1537b-1ade-40ac-923d-08f34f9d0af3",
   "metadata": {},
   "outputs": [],
   "source": [
    "'''\n",
    "Utility for Problem 3\n",
    "'''\n",
    "import os\n",
    "\n",
    "def get_images(img_dir):\n",
    "    start_cwd = os.getcwd()\n",
    "    os.chdir(img_dir)\n",
    "    img_name_list = os.listdir('./')\n",
    "    img_name_list = [name for name in img_name_list if 'jpg' in name.lower()]\n",
    "    img_name_list.sort()\n",
    "\n",
    "    img_list = []\n",
    "    for i_name in img_name_list:\n",
    "        im = cv2.imread(i_name, cv2.IMREAD_GRAYSCALE)\n",
    "        if im is None:\n",
    "            print('Could not open', i_name)\n",
    "            sys.exit(0)\n",
    "        img_list.append(im)\n",
    "\n",
    "    os.chdir(start_cwd)\n",
    "    return img_name_list, img_list"
   ]
  },
  {
   "cell_type": "code",
   "execution_count": 12,
   "id": "3633588a-2c47-4191-8627-49bbdc28e7a7",
   "metadata": {},
   "outputs": [],
   "source": [
    "def p3_best_focus(image_dir):\n"
   ]
  },
  {
   "cell_type": "code",
   "execution_count": 13,
   "id": "94726212-6900-4447-beac-7ac34a660b79",
   "metadata": {},
   "outputs": [
    {
     "name": "stdout",
     "output_type": "stream",
     "text": [
      "DSC_1696.JPG: 283.9\n",
      "DSC_1697.JPG: 312.7\n",
      "DSC_1698.JPG: 602.4\n",
      "DSC_1699.JPG: 2137.2\n",
      "DSC_1700.JPG: 10224.8\n",
      "DSC_1701.JPG: 18987.1\n",
      "Image DSC_1701.JPG is best focused.\n"
     ]
    }
   ],
   "source": [
    "image_dir = 'data/evergreen'\n",
    "p3_best_focus(image_dir)"
   ]
  },
  {
   "cell_type": "code",
   "execution_count": null,
   "id": "284f8631",
   "metadata": {},
   "outputs": [],
   "source": [
    "image_dir = 'data/branches'\n",
    "p3_best_focus(image_dir)"
   ]
  }
 ],
 "metadata": {
  "kernelspec": {
   "display_name": "Python 3 (ipykernel)",
   "language": "python",
   "name": "python3"
  },
  "language_info": {
   "codemirror_mode": {
    "name": "ipython",
    "version": 3
   },
   "file_extension": ".py",
   "mimetype": "text/x-python",
   "name": "python",
   "nbconvert_exporter": "python",
   "pygments_lexer": "ipython3",
   "version": "3.9.18"
  }
 },
 "nbformat": 4,
 "nbformat_minor": 5
}
