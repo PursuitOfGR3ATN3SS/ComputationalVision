{
 "cells": [
  {
   "cell_type": "code",
   "execution_count": 1,
   "id": "cfcb72ac-560a-461f-823e-be83aa8ba557",
   "metadata": {},
   "outputs": [
    {
     "name": "stdout",
     "output_type": "stream",
     "text": [
      "OpenCV version: 4.10.0\n",
      "NumPy version: 2.1.3\n",
      "MatPlotLib version: 3.9.2\n"
     ]
    }
   ],
   "source": [
    "\"\"\"\n",
    "Author:   Chuck Stewart\n",
    "Course:   CSCI 4270 and 6270\n",
    "Lecture:  02\n",
    "File:     ex1_access_and_display.py\n",
    "\n",
    "Purpose: Very first example of reading images with OpenCV, accessing\n",
    "them with NumPy and displaying them with MatPlotLib.  Note that OpenCV\n",
    "has a display method which we will not use because it creates a window\n",
    "outside the notebook.\n",
    "\"\"\"\n",
    "\n",
    "import cv2\n",
    "import numpy as np\n",
    "from matplotlib import pyplot as plt\n",
    "import matplotlib\n",
    "\n",
    "import os\n",
    "import pathlib\n",
    "import random\n",
    "import sys\n",
    "\n",
    "print(\"OpenCV version:\", cv2.__version__)\n",
    "print(\"NumPy version:\", np.__version__)\n",
    "print(\"MatPlotLib version:\", matplotlib.__version__)"
   ]
  },
  {
   "cell_type": "markdown",
   "id": "ad8d0e2b-199a-4f85-8975-8da78d1da4f9",
   "metadata": {},
   "source": [
    "### Get a Test Image\n",
    "\n",
    "Find the images in a chosen directory, list them, and pick one at random"
   ]
  },
  {
   "cell_type": "code",
   "execution_count": 2,
   "id": "5cdbc74d-8412-488b-9ae1-cc87e421b0ad",
   "metadata": {},
   "outputs": [
    {
     "name": "stdout",
     "output_type": "stream",
     "text": [
      "The image will be taken from /Users/stewart/Dropbox/cv_2025_spring/test_images/kenya\n"
     ]
    },
    {
     "ename": "FileNotFoundError",
     "evalue": "[WinError 3] The system cannot find the path specified: '/Users/stewart/Dropbox/cv_2025_spring/test_images/kenya'",
     "output_type": "error",
     "traceback": [
      "\u001b[1;31m---------------------------------------------------------------------------\u001b[0m",
      "\u001b[1;31mFileNotFoundError\u001b[0m                         Traceback (most recent call last)",
      "Cell \u001b[1;32mIn[2], line 11\u001b[0m\n\u001b[0;32m      7\u001b[0m \u001b[38;5;124;03m\"\"\"\u001b[39;00m\n\u001b[0;32m      8\u001b[0m \u001b[38;5;124;03mSave the current working directory and switch into the test directory\u001b[39;00m\n\u001b[0;32m      9\u001b[0m \u001b[38;5;124;03m\"\"\"\u001b[39;00m\n\u001b[0;32m     10\u001b[0m prev_wd \u001b[38;5;241m=\u001b[39m os\u001b[38;5;241m.\u001b[39mgetcwd()\n\u001b[1;32m---> 11\u001b[0m \u001b[43mos\u001b[49m\u001b[38;5;241;43m.\u001b[39;49m\u001b[43mchdir\u001b[49m\u001b[43m(\u001b[49m\u001b[43mtest_image_dir\u001b[49m\u001b[43m)\u001b[49m\n\u001b[0;32m     13\u001b[0m \u001b[38;5;124;03m\"\"\"\u001b[39;00m\n\u001b[0;32m     14\u001b[0m \u001b[38;5;124;03mGet the JPEG and PNG images.\u001b[39;00m\n\u001b[0;32m     15\u001b[0m \u001b[38;5;124;03m\"\"\"\u001b[39;00m\n\u001b[0;32m     16\u001b[0m img_extensions \u001b[38;5;241m=\u001b[39m [\u001b[38;5;124m'\u001b[39m\u001b[38;5;124m.jpg\u001b[39m\u001b[38;5;124m'\u001b[39m, \u001b[38;5;124m'\u001b[39m\u001b[38;5;124m.jpeg\u001b[39m\u001b[38;5;124m'\u001b[39m, \u001b[38;5;124m'\u001b[39m\u001b[38;5;124m.png\u001b[39m\u001b[38;5;124m'\u001b[39m]\n",
      "\u001b[1;31mFileNotFoundError\u001b[0m: [WinError 3] The system cannot find the path specified: '/Users/stewart/Dropbox/cv_2025_spring/test_images/kenya'"
     ]
    }
   ],
   "source": [
    "\"\"\"\n",
    "Manually assign the test image directory\n",
    "\"\"\"\n",
    "test_image_dir = \"/Users/stewart/Dropbox/cv_2025_spring/test_images/kenya\"\n",
    "print(f'The image will be taken from {test_image_dir}')\n",
    "\n",
    "\"\"\"\n",
    "Save the current working directory and switch into the test directory\n",
    "\"\"\"\n",
    "prev_wd = os.getcwd()\n",
    "os.chdir(test_image_dir)\n",
    "\n",
    "\"\"\"\n",
    "Get the JPEG and PNG images.\n",
    "\"\"\"\n",
    "img_extensions = ['.jpg', '.jpeg', '.png']\n",
    "img_list = os.listdir('./')\n",
    "img_list = [name for name in img_list if pathlib.Path(name).suffix.lower() in img_extensions]\n",
    "print(f'Here are the images found in the directory.')\n",
    "for i_name in img_list:\n",
    "    print(f'\\t{i_name}')\n",
    "print()\n",
    "\n",
    "\"\"\"\n",
    "Pick an image at random.\n",
    "\"\"\"\n",
    "random.seed()\n",
    "ii = random.randint(0, len(img_list) - 1)\n",
    "img_name = img_list[ii]\n",
    "print(f'The chosen image is: {img_name}')\n",
    "\n",
    "\"\"\"\n",
    "Read the image using the OpenCV method. If something goes wrong imread returns None\n",
    "\"\"\"\n",
    "img = cv2.imread(img_name)\n",
    "if img is None:\n",
    "    print('Failed to open the image')\n",
    "else:\n",
    "    print('Successfully opened the image')\n",
    "\n",
    "# Go back to previous working directory\n",
    "os.chdir(prev_wd)"
   ]
  },
  {
   "cell_type": "code",
   "execution_count": null,
   "id": "8567f563-9656-47f0-88d9-523ce1d3c5d9",
   "metadata": {},
   "outputs": [],
   "source": [
    "\"\"\"\n",
    "Output the image's basic properties\n",
    "\"\"\"\n",
    "print('Image type:', type(img))  # Shows that this is a NumPy array\n",
    "print('Image.dtype', img.dtype)\n",
    "print('Image shape:', img.shape)\n"
   ]
  },
  {
   "cell_type": "code",
   "execution_count": null,
   "id": "5a9dcf34-8246-4700-952d-0c28f6cbe4ea",
   "metadata": {},
   "outputs": [],
   "source": [
    "\"\"\"\n",
    "Use the PyPlot function from MatPlotLib to show\n",
    "the original image.  The image is scaled to fit the display.\n",
    "\"\"\"\n",
    "plt.axis(\"off\")\n",
    "plt.imshow(img)\n",
    "plt.show()\n"
   ]
  },
  {
   "cell_type": "markdown",
   "id": "5ea3a7f3-b2a4-42de-b0b6-26c71b1bbc09",
   "metadata": {},
   "source": [
    "### Fixing Colors\n",
    "\n",
    "The funny look to our result is because OpenCV uses GBR as the color ordering, whereas PyPlot expects RGB. In the following code we fix this and redisplay the image."
   ]
  },
  {
   "cell_type": "code",
   "execution_count": null,
   "id": "25733e51-30d9-4d32-a312-bfed2f3f874e",
   "metadata": {},
   "outputs": [],
   "source": [
    "img_rgb = img[:, :, ::-1]\n",
    "# img_rgb = cv2.cvtColor(img, cv2.COLOR_BGR2RGB)\n",
    "\n",
    "plt.axis(\"off\")\n",
    "plt.imshow(img_rgb)\n",
    "plt.show()\n",
    "\n",
    "\n"
   ]
  },
  {
   "cell_type": "markdown",
   "id": "3cd6860b-0140-442e-a06c-eb38266146b2",
   "metadata": {},
   "source": [
    "### Playing Around A Bit"
   ]
  },
  {
   "cell_type": "code",
   "execution_count": null,
   "id": "3c146e34-b2c0-4771-912d-e0ef972a3cc6",
   "metadata": {},
   "outputs": [],
   "source": [
    "\"\"\"\n",
    "Accessing pixel values\n",
    "\"\"\"\n",
    "(ctr_row, ctr_col) = (img.shape[0] // 2, img.shape[1] // 2)\n",
    "print('Center BGR pixel value (through indexing):', img[ctr_row, ctr_col])\n",
    "print('Center RGV pixel value (through indexing):', img_rgb[ctr_row, ctr_col])\n",
    "print('Upper left corner blue value (through item method): ',\n",
    "    img.item(0, 0, 0))\n",
    "print('Upper left corner blue value (through indexing): ', img_rgb[0, 0, 2])\n",
    "\n",
    "\"\"\"\n",
    "Converting to gray scale\n",
    "\"\"\"\n",
    "img_gray = cv2.cvtColor(img, cv2.COLOR_RGB2GRAY)\n",
    "print()\n",
    "print('Shape before conversion is', img.shape)\n",
    "print('Shape after conversion is', img_gray.shape)\n",
    "print('Center pixel value is now', img_gray[ctr_row, ctr_col])"
   ]
  }
 ],
 "metadata": {
  "kernelspec": {
   "display_name": "cv",
   "language": "python",
   "name": "python3"
  },
  "language_info": {
   "codemirror_mode": {
    "name": "ipython",
    "version": 3
   },
   "file_extension": ".py",
   "mimetype": "text/x-python",
   "name": "python",
   "nbconvert_exporter": "python",
   "pygments_lexer": "ipython3",
   "version": "3.10.16"
  }
 },
 "nbformat": 4,
 "nbformat_minor": 5
}
